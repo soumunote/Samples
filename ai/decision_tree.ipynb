{
 "cells": [
  {
   "cell_type": "code",
   "execution_count": null,
   "id": "d2fbe2d3-2541-477f-bb7a-2dca49f9d7c3",
   "metadata": {},
   "outputs": [],
   "source": [
    "import numpy as np\n",
    "import matplotlib.pyplot as plt\n",
    "from matplotlib.colors import ListedColormap\n",
    "from sklearn.datasets import make_moons\n",
    "from sklearn.model_selection import train_test_split\n",
    "from sklearn.tree import DecisionTreeClassifier\n",
    "\n",
    "[x, t] = make_moons(n_samples=200, noise=0.1, random_state=0)     \n",
    "\n",
    "def plot_data(x, t):\n",
    "    plt.plot(x[:, 0][t==0], x[:, 1][t==0], 'bo')\n",
    "    plt.plot(x[:, 0][t==1], x[:, 1][t==1], 'r^')\n",
    "    plt.xlabel('x')\n",
    "    plt.ylabel('y', rotation=0)\n",
    "\n",
    "plt.figure(figsize=(12, 8))\n",
    "plot_data(x, t)\n",
    "\n",
    "x_train, x_test, t_train, t_test = train_test_split(x, t, stratify=t, random_state=0)\n",
    "\n",
    "tree = DecisionTreeClassifier(max_depth=3, random_state=0)\n",
    "tree.fit(x_train, t_train)\n",
    "tree.score(x_test, t_test)\n",
    "\n",
    "import sklearn.tree\n",
    "plt.figure(figsize=(40, 25))\n",
    "sklearn.tree.plot_tree(tree, class_names=['○', '▲'],filled=True)"
   ]
  },
  {
   "cell_type": "code",
   "execution_count": null,
   "id": "3ed4b67b-1cce-487c-80c0-fb8e7fb9e4ac",
   "metadata": {},
   "outputs": [],
   "source": [
    "import random\n",
    "x = [random.uniform(-1.5, 1.5) for n in range(1000)]\n",
    "y = [random.uniform(-2.0, 2.0) for n in range(1000)]\n",
    "data = np.array([list(item) for item in list(zip(x, y))])\n",
    "ans = tree.predict(data)\n",
    "\n",
    "plt.figure(figsize=(12, 8))\n",
    "plot_data(data, ans)"
   ]
  },
  {
   "cell_type": "code",
   "execution_count": null,
   "id": "125dbb1b-7c3a-4ff4-ad56-76a38f130367",
   "metadata": {},
   "outputs": [],
   "source": []
  }
 ],
 "metadata": {
  "kernelspec": {
   "display_name": "Python 3 (ipykernel)",
   "language": "python",
   "name": "python3"
  },
  "language_info": {
   "codemirror_mode": {
    "name": "ipython",
    "version": 3
   },
   "file_extension": ".py",
   "mimetype": "text/x-python",
   "name": "python",
   "nbconvert_exporter": "python",
   "pygments_lexer": "ipython3",
   "version": "3.12.4"
  }
 },
 "nbformat": 4,
 "nbformat_minor": 5
}
